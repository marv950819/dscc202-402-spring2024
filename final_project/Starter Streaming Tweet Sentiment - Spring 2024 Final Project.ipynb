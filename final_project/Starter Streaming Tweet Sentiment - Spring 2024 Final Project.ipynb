{
 "cells": [
  {
   "cell_type": "markdown",
   "metadata": {
    "application/vnd.databricks.v1+cell": {
     "cellMetadata": {
      "byteLimit": 2048000,
      "rowLimit": 10000
     },
     "inputWidgets": {},
     "nuid": "fc749083-2211-485c-943f-640e198b2c70",
     "showTitle": false,
     "title": ""
    }
   },
   "source": [
    "## DSCC202-402 Data Science at Scale Final Project\n",
    "### Tracking Tweet sentiment at scale using a pretrained transformer (classifier)\n",
    "<p>Consider the following illustration of the end to end system that you will be building.  Each student should do their own work.  The project will demonstrate your understanding of Spark Streaming, the medalion data architecture using Delta Lake, Spark Inference at Scale using an MLflow packaged model as well as Exploritory Data Analysis and System Tracking and Monitoring.</p>\n",
    "<br><br>\n",
    "<img src=\"https://data-science-at-scale.s3.amazonaws.com/images/pipeline.drawio.png\">\n",
    "\n",
    "<p>\n",
    "You will be pulling an updated copy of the course GitHub repositiory: <a href=\"https://github.com/lpalum/dscc202-402-spring2024\">The Repo</a>.  If you are unclear on how to pull an updated copy using the GitHub command line, the following <a href=\"https://techwritingmatters.com/how-to-update-your-forked-repository-on-github\">document</a> is helpful.  Be sure to add the professors and TAs as collaborators on your project. \n",
    "\n",
    "- lpalum@gmail.com GitHub ID: lpalum\n",
    "- ajay.anand@rochester.edu GitHub ID: ajayan12\n",
    "- divyamunot1999@gmail.com GitHub ID: divyamunot\n",
    "- ylong6@u.Rochester.edu GitHub ID: NinaLong2077\n",
    "\n",
    "Once you have updates your fork of the repository you should see the following template project that is resident in the final_project directory.\n",
    "</p>\n",
    "\n",
    "<img src=\"https://data-science-at-scale.s3.amazonaws.com/images/notebooks.drawio.png\">\n",
    "\n",
    "<p>\n",
    "You can then pull your project into the Databrick Workspace using the <a href=\"https://www.databricks.training/step-by-step/importing-courseware-from-github/index.html\">Repos</a> feature.\n",
    "Each student is expected to submit the URL of their project on GitHub with their code checked in on the main/master branch.  This illustration highlights the branching scheme that you may use to work on your code in steps and then merge your submission into your master branch before submitting.\n",
    "</p>\n",
    "<img src=\"https://data-science-at-scale.s3.amazonaws.com/images/github.drawio.png\">\n",
    "<p>\n",
    "Work your way through this notebook which will give you the steps required to submit a complete and compliant project.  The following illustration and associated data dictionary specifies the transformations and data that you are to generate for each step in the medallion pipeline.\n",
    "</p>\n",
    "<br><br>\n",
    "<img src=\"https://data-science-at-scale.s3.amazonaws.com/images/dataframes.drawio.png\">\n",
    "\n",
    "#### Bronze Data - raw ingest\n",
    "- date - string in the source json\n",
    "- user - string in the source json\n",
    "- text - tweet string in the source json\n",
    "- sentiment - the given sentiment of the text as determined by an unknown model that is provided in the source json\n",
    "- source_file - the path of the source json file the this row of data was read from\n",
    "- processing_time - a timestamp of when you read this row from the source json\n",
    "\n",
    "#### Silver Data - Bronze Preprocessing\n",
    "- timestamp - convert date string in the bronze data to a timestamp\n",
    "- mention - every @username mentioned in the text string in the bronze data gets a row in this silver data table.\n",
    "- cleaned_text - the bronze text data with the mentions (@username) removed.\n",
    "- sentiment - the given sentiment that was associated with the text in the bronze table.\n",
    "\n",
    "#### Gold Data - Silver Table Inference\n",
    "- timestamp - the timestamp from the silver data table rows\n",
    "- mention - the mention from the silver data table rows\n",
    "- cleaned_text - the cleaned_text from the silver data table rows\n",
    "- sentiment - the given sentiment from the silver data table rows\n",
    "- predicted_score - score out of 100 from the Hugging Face Sentiment Transformer\n",
    "- predicted_sentiment - string representation of the sentiment\n",
    "- sentiment_id - 0 for negative and 1 for postive associated with the given sentiment\n",
    "- predicted_sentiment_id - 0 for negative and 1 for positive assocaited with the Hugging Face Sentiment Transformer\n",
    "\n",
    "#### Application Data - Gold Table Aggregation\n",
    "- min_timestamp - the oldest timestamp on a given mention (@username)\n",
    "- max_timestamp - the newest timestamp on a given mention (@username)\n",
    "- mention - the user (@username) that this row pertains to.\n",
    "- negative - total negative tweets directed at this mention (@username)\n",
    "- neutral - total neutral tweets directed at this mention (@username)\n",
    "- positive - total positive tweets directed at this mention (@username)\n",
    "\n",
    "When you are designing your approach, one of the main decisions that you will need to make is how you are going to orchestrate the streaming data processing in your pipeline.  There are several valid approaches.  First, you may choose to start the bronze_stream and let it complete (read and append all of the source data) before preceeding and starting up the silver_stream.  This approach has latency associated with it but it will allow your code to proceed in a linear fashion and process all the data by the end of your notebook execution.  Another potential approach is to start all the streams and have a \"watch\" method to determine when the pipeline has processed sufficient or all of the source data before stopping and displaying results.  Both of these approaches are valid and have different implications on how you will trigger your steams and how you will gate the execution of your pipeline.  Think through how you want to proceed and ask questions if you need guidance. The following references may be helpful:\n",
    "- [Spark Structured Streaming Programming Guide](https://spark.apache.org/docs/latest/structured-streaming-programming-guide.html)\n",
    "- [Databricks Autoloader - Cloudfiles](https://docs.databricks.com/en/ingestion/auto-loader/index.html)\n",
    "\n",
    "### Be sure that your project runs end to end when *Run all* is executued on this notebook! (15 Points out of 60)"
   ]
  },
  {
   "cell_type": "code",
   "execution_count": 0,
   "metadata": {
    "application/vnd.databricks.v1+cell": {
     "cellMetadata": {
      "byteLimit": 2048000,
      "rowLimit": 10000
     },
     "inputWidgets": {},
     "nuid": "068f25d0-1387-4342-89cf-ce82a8d614ce",
     "showTitle": true,
     "title": "Pull in the Includes & Utiltites"
    }
   },
   "outputs": [],
   "source": [
    "%run ./includes/includes"
   ]
  },
  {
   "cell_type": "code",
   "execution_count": 0,
   "metadata": {
    "application/vnd.databricks.v1+cell": {
     "cellMetadata": {
      "byteLimit": 2048000,
      "rowLimit": 10000
     },
     "inputWidgets": {},
     "nuid": "6512bf1b-50e0-4a4b-84a9-e280a6260b56",
     "showTitle": true,
     "title": "Notebook Control Widgets (maybe helpful)"
    }
   },
   "outputs": [],
   "source": [
    "\"\"\"\n",
    "Adding a widget to the notebook to control the clearing of a previous run.\n",
    "or stopping the active streams using routines defined in the utilities notebook\n",
    "\"\"\"\n",
    "dbutils.widgets.removeAll()\n",
    "\n",
    "dbutils.widgets.dropdown(\"clear_previous_run\", \"No\", [\"No\",\"Yes\"])\n",
    "if (getArgument(\"clear_previous_run\") == \"Yes\"):\n",
    "    clear_previous_run()\n",
    "    print(\"Cleared all previous data.\")\n",
    "\n",
    "dbutils.widgets.dropdown(\"stop_streams\", \"No\", [\"No\",\"Yes\"])\n",
    "if (getArgument(\"stop_streams\") == \"Yes\"):\n",
    "    stop_all_streams()\n",
    "    print(\"Stopped all active streams.\")\n",
    "\n",
    "from delta import *\n",
    "dbutils.widgets.dropdown(\"optimize_tables\", \"No\", [\"No\",\"Yes\"])\n",
    "if (getArgument(\"optimize_tables\") == \"Yes\"):\n",
    "    # Suck up those small files that we have been appending.\n",
    "    DeltaTable.forPath(spark, BRONZE_DELTA).optimize().executeCompaction()\n",
    "    # Suck up those small files that we have been appending.\n",
    "    DeltaTable.forPath(spark, SILVER_DELTA).optimize().executeCompaction()\n",
    "    # Suck up those small files that we have been appending.\n",
    "    DeltaTable.forPath(spark, GOLD_DELTA).optimize().executeCompaction()\n",
    "    print(\"Optimized all of the Delta Tables\")"
   ]
  },
  {
   "cell_type": "markdown",
   "metadata": {
    "application/vnd.databricks.v1+cell": {
     "cellMetadata": {
      "byteLimit": 2048000,
      "rowLimit": 10000
     },
     "inputWidgets": {},
     "nuid": "e8ce7c13-7f8f-4e11-b50c-fdaebbcf3f99",
     "showTitle": false,
     "title": ""
    }
   },
   "source": [
    "## 1.0 Import your libraries here...\n",
    "- Are your shuffle partitions consistent with your cluster and your workload?\n",
    "- Do you have the necessary libraries to perform the required operations in the pipeline/application?"
   ]
  },
  {
   "cell_type": "code",
   "execution_count": 0,
   "metadata": {
    "application/vnd.databricks.v1+cell": {
     "cellMetadata": {
      "byteLimit": 2048000,
      "rowLimit": 10000
     },
     "inputWidgets": {},
     "nuid": "67bafbb7-d34e-4e86-b159-b2e062faa1d0",
     "showTitle": false,
     "title": ""
    }
   },
   "outputs": [],
   "source": [
    "# ENTER YOUR CODE HERE\n",
    "\n",
    "# INTENTAR CON SOLO 5 ARCHIVOS LEERLOS Y PONERLOS EN SOURCE MIENTRAS SABEMOS QUE EL TRIGGER ESTA BIEN CONFIGURADO\n",
    "# NUMER OF FILES, LIMIT OF BITES, MAX BIT READ, PICKING A STRATEGY TO GET THE TRIGGER WELL CONFIGURATED\n",
    "# CHANGE THE PATH TO THE ACTUAL AFTER YOU HAVE PROCESSED\n",
    "\n",
    "# SYNCHRONIZATION PROBLEM - I NEED TO CELL GATES THE PROCESSING , NEED TO CHECK THEAT DELTA LAKE IS THERE, ANTES DEL STREAM PARA ESPERAR PARA QUE EL STREAM HA EMPEZADO, CHECAR EL BRONZE DATA LAKE ,\n",
    "# TRY, EXCEPT, ACCESS THE DATALAKE, WAIT DO IT AGAIN\n",
    "# OTRA ESTRATEGIA PUEDE SER PRIMERO \n",
    "# ESPERAR A QUE EL BRONZE STREAM HAYA FINALIZADO, CHECKPOINT Y TODO, DESPUES COMENZAR EL SIGUIENTE PASO\n",
    "# BRONZE - STATITICS\n",
    "\n",
    "# AUNQUE CERREMOS O APAGUEMOS LA COMPUTADORA, NO VAMOS A PERDER NADA DE LO QUE HEMOS ESCRITO\n",
    "\n",
    "# WIDGET - POINT AT THE NEW CHECKPOINT AFTER THOSE 5 OR 10 ROWS\n",
    "\n",
    "\n",
    "from datetime import datetime as dt\n",
    "from datetime import timedelta\n",
    "import json\n",
    "from pyspark.sql.types import StructType, StructField, StringType, TimestampType\n",
    "from pyspark.sql.functions import input_file_name, current_timestamp\n",
    "import time\n",
    "from pyspark.sql.functions import col, regexp_extract, regexp_replace,lit, count, coalesce, to_timestamp, pandas_udf, PandasUDFType\n",
    "import mlflow.pyfunc\n",
    "import pandas as pd\n",
    "import mlflow\n",
    "import mlflow.sklearn\n",
    "from sklearn.metrics import precision_score, recall_score, f1_score, confusion_matrix\n",
    "import matplotlib.pyplot as plt\n",
    "import seaborn as sns\n",
    "from pyspark.sql import functions as F\n",
    "from pyspark.sql.functions import when\n"
   ]
  },
  {
   "cell_type": "markdown",
   "metadata": {
    "application/vnd.databricks.v1+cell": {
     "cellMetadata": {
      "byteLimit": 2048000,
      "rowLimit": 10000
     },
     "inputWidgets": {},
     "nuid": "2b7624b4-0aa5-46b7-9767-52f462b2c574",
     "showTitle": false,
     "title": ""
    }
   },
   "source": [
    "## 2.0 Use the utility functions to ...\n",
    "- Read the source file directory listing\n",
    "- Count the source files (how many are there?)\n",
    "- print the contents of one of the files"
   ]
  },
  {
   "cell_type": "code",
   "execution_count": 0,
   "metadata": {
    "application/vnd.databricks.v1+cell": {
     "cellMetadata": {
      "byteLimit": 2048000,
      "rowLimit": 10000
     },
     "inputWidgets": {},
     "nuid": "a59749d5-e45d-460f-9be1-33652cda2ea5",
     "showTitle": false,
     "title": ""
    }
   },
   "outputs": [],
   "source": [
    "# # Read the source file directory listing\n",
    "# display(dbutils.fs.ls(TWEET_SOURCE_PATH)[:10])\n",
    "# # Count the source files (how many are there?)\n",
    "# entries = dbutils.fs.ls(TWEET_SOURCE_PATH)\n",
    "# total_entries = len(entries)\n",
    "# print(f\"Total entries (files and directories): {total_entries}\")\n",
    "# # print the contents of one of the files\n",
    "bdf=spark.read.format('json').option(\"inferSchema\",\"True\").load(TWEET_SOURCE_PATH+'1.json')\n",
    "display(bdf)\n",
    "#print schema\n",
    "bdf.printSchema()"
   ]
  },
  {
   "cell_type": "markdown",
   "metadata": {
    "application/vnd.databricks.v1+cell": {
     "cellMetadata": {
      "byteLimit": 2048000,
      "rowLimit": 10000
     },
     "inputWidgets": {},
     "nuid": "1676aed7-527f-4ea7-9d3b-52544e8c1e37",
     "showTitle": false,
     "title": ""
    }
   },
   "source": [
    "## 3.0 Transform the Raw Data to Bronze Data using a stream\n",
    "- define the schema for the raw data\n",
    "- setup a read stream using cloudfiles and the source data format\n",
    "- setup a write stream using cloudfiles to append to the bronze delta table\n",
    "- enforce schema\n",
    "- allow a new schema to be merged into the bronze delta table\n",
    "- Use the defined BRONZE_CHECKPOINT and BRONZE_DELTA paths defines in the includes\n",
    "- name your raw to bronze stream as bronze_stream\n",
    "- transform the raw data to the bronze data using the data definition at the top of the notebook"
   ]
  },
  {
   "cell_type": "code",
   "execution_count": 0,
   "metadata": {
    "application/vnd.databricks.v1+cell": {
     "cellMetadata": {
      "byteLimit": 2048000,
      "rowLimit": 10000
     },
     "inputWidgets": {},
     "nuid": "c4e37574-9885-4908-bf97-609d140a8818",
     "showTitle": false,
     "title": ""
    }
   },
   "outputs": [],
   "source": [
    "dbutils.fs.rm(BRONZE_DELTA, recurse=True)\n",
    "dbutils.fs.rm(BRONZE_CHECKPOINT, recurse=True)\n",
    "\n",
    "# spark.sql(\n",
    "#     \"DELETE FROM BRONZE_DELTA\"\n",
    "# )"
   ]
  },
  {
   "cell_type": "code",
   "execution_count": 0,
   "metadata": {
    "application/vnd.databricks.v1+cell": {
     "cellMetadata": {
      "byteLimit": 2048000,
      "rowLimit": 10000
     },
     "inputWidgets": {},
     "nuid": "8d4139a1-cc03-46f0-887a-02ca0a1d1e80",
     "showTitle": false,
     "title": ""
    }
   },
   "outputs": [],
   "source": [
    "#schema = bdf.schema\n",
    "schema = StructType([\n",
    "    StructField(\"date\", StringType(), True),\n",
    "    StructField(\"sentiment\", StringType(), True),\n",
    "    StructField(\"text\", StringType(), True),\n",
    "    StructField(\"user\", StringType(), True)\n",
    "])"
   ]
  },
  {
   "cell_type": "code",
   "execution_count": 0,
   "metadata": {
    "application/vnd.databricks.v1+cell": {
     "cellMetadata": {
      "byteLimit": 2048000,
      "rowLimit": 10000
     },
     "inputWidgets": {},
     "nuid": "08b0d9fd-7df3-4f9a-ad34-de2727cba7dd",
     "showTitle": false,
     "title": ""
    }
   },
   "outputs": [],
   "source": [
    "# Read the JSON data using the defined schema\n",
    "#df = spark.read.json(json_file_path, schema=schema, timestampFormat=\"EEE MMM dd HH:mm:ss zzz yyyy\")\n",
    "bronze_raw_df = (\n",
    "    spark\n",
    "    .readStream\n",
    "    .format(\"cloudFiles\")\n",
    "    .option(\"cloudFiles.format\", \"json\")\n",
    "    .option(\"maxFilesPerTrigger\", 5)\n",
    "    .schema(schema)\n",
    "    .load(TWEET_SOURCE_PATH)\n",
    ")"
   ]
  },
  {
   "cell_type": "markdown",
   "metadata": {
    "application/vnd.databricks.v1+cell": {
     "cellMetadata": {
      "byteLimit": 2048000,
      "rowLimit": 10000
     },
     "inputWidgets": {},
     "nuid": "b1fce03d-b903-4543-82a9-dfd2861d9333",
     "showTitle": false,
     "title": ""
    }
   },
   "source": [
    "Bronze Data - raw ingest\n",
    "\n",
    "date - string in the source json\n",
    "\n",
    "user - string in the source json\n",
    "\n",
    "text - tweet string in the source json\n",
    "\n",
    "sentiment - the given sentiment of the text as determined by an unknown model that is provided in the source json\n",
    "\n",
    "source_file - the path of the source json file the this row of data was read from\n",
    "\n",
    "processing_time - a timestamp of when you read this row from the source json\n"
   ]
  },
  {
   "cell_type": "code",
   "execution_count": 0,
   "metadata": {
    "application/vnd.databricks.v1+cell": {
     "cellMetadata": {
      "byteLimit": 2048000,
      "rowLimit": 10000
     },
     "inputWidgets": {},
     "nuid": "a6d68191-edd7-4c45-8130-20f141aa6143",
     "showTitle": false,
     "title": ""
    }
   },
   "outputs": [],
   "source": [
    "# Add dynamic columns\n",
    "bronze_df = bronze_raw_df.withColumn(\"source_file\", input_file_name()) \\\n",
    "                     .withColumn(\"processing_time\", current_timestamp())\n"
   ]
  },
  {
   "cell_type": "code",
   "execution_count": 0,
   "metadata": {
    "application/vnd.databricks.v1+cell": {
     "cellMetadata": {
      "byteLimit": 2048000,
      "rowLimit": 10000
     },
     "inputWidgets": {},
     "nuid": "b3ce55f3-0e0b-4661-9ed7-7fade7e40d5e",
     "showTitle": false,
     "title": ""
    }
   },
   "outputs": [],
   "source": [
    "bronze_stream = (\n",
    "    bronze_df\n",
    "    .writeStream\n",
    "    .format(\"delta\")\n",
    "    .outputMode(\"append\")\n",
    "    .option(\"checkpointLocation\", BRONZE_CHECKPOINT)\n",
    "    .option(\"mergeSchema\", \"true\")\n",
    "    .queryName(\"bronze_stream\")\n",
    "    .start(BRONZE_DELTA)\n",
    ")\n"
   ]
  },
  {
   "cell_type": "code",
   "execution_count": 0,
   "metadata": {
    "application/vnd.databricks.v1+cell": {
     "cellMetadata": {
      "byteLimit": 2048000,
      "rowLimit": 10000
     },
     "inputWidgets": {},
     "nuid": "58197ac4-98d7-4eb8-aedf-b267126c5656",
     "showTitle": false,
     "title": ""
    }
   },
   "outputs": [],
   "source": [
    "running_time = 0\n",
    "max_running_time = 45  \n",
    "while bronze_stream.isActive:\n",
    "    time.sleep(5)  # Wait for a minute\n",
    "    running_time += 5\n",
    "    if running_time >= max_running_time:\n",
    "        bronze_stream.stop()\n",
    "        print(\"Stream stopped after running 60 secs.\")\n"
   ]
  },
  {
   "cell_type": "code",
   "execution_count": 0,
   "metadata": {
    "application/vnd.databricks.v1+cell": {
     "cellMetadata": {
      "byteLimit": 2048000,
      "rowLimit": 10000
     },
     "inputWidgets": {},
     "nuid": "0e3f8db7-46ed-493a-9efb-1bbf77177bc9",
     "showTitle": false,
     "title": ""
    }
   },
   "outputs": [],
   "source": [
    "bronze_stream.awaitTermination()\n",
    "display(dbutils.fs.ls(BRONZE_DELTA))"
   ]
  },
  {
   "cell_type": "code",
   "execution_count": 0,
   "metadata": {
    "application/vnd.databricks.v1+cell": {
     "cellMetadata": {
      "byteLimit": 2048000,
      "rowLimit": 10000
     },
     "inputWidgets": {},
     "nuid": "2c80c464-b66c-45ff-a8b5-cd9d2abef19f",
     "showTitle": false,
     "title": ""
    }
   },
   "outputs": [],
   "source": [
    "\n",
    "# spark.sql(\n",
    "#     f\"\"\"\n",
    "# CREATE TABLE bronze_delta\n",
    "# USING DELTA\n",
    "# LOCATION \"{BRONZE_DELTA}\"\n",
    "# \"\"\"\n",
    "# )\n",
    "\n",
    "\n",
    "# spark.sql(\n",
    "#      \"DROP TABLE BRONZE_DELTA\"\n",
    "# )\n",
    "\n"
   ]
  },
  {
   "cell_type": "code",
   "execution_count": 0,
   "metadata": {
    "application/vnd.databricks.v1+cell": {
     "cellMetadata": {
      "byteLimit": 2048000,
      "rowLimit": 10000
     },
     "inputWidgets": {},
     "nuid": "ce8ebca6-00f8-450b-9478-1a0ce901bd4a",
     "showTitle": false,
     "title": ""
    }
   },
   "outputs": [],
   "source": [
    "df = spark.read.format('delta').load(BRONZE_DELTA)\n",
    "display(df)"
   ]
  },
  {
   "cell_type": "code",
   "execution_count": 0,
   "metadata": {
    "application/vnd.databricks.v1+cell": {
     "cellMetadata": {
      "byteLimit": 2048000,
      "implicitDf": true,
      "rowLimit": 10000
     },
     "inputWidgets": {},
     "nuid": "bf3188af-5cd7-4f85-83dc-b0e7e03fc498",
     "showTitle": false,
     "title": ""
    }
   },
   "outputs": [],
   "source": [
    "%sql\n",
    "SELECT * FROM bronze_delta LIMIT 500;\n"
   ]
  },
  {
   "cell_type": "markdown",
   "metadata": {
    "application/vnd.databricks.v1+cell": {
     "cellMetadata": {
      "byteLimit": 2048000,
      "rowLimit": 10000
     },
     "inputWidgets": {},
     "nuid": "9bc3e824-d218-43e5-a43b-4c6dbe31950d",
     "showTitle": false,
     "title": ""
    }
   },
   "source": [
    "## 4.0 Bronze Data Exploratory Data Analysis\n",
    "- How many tweets are captured in your Bronze Table?\n",
    "- Are there any columns that contain Nan or Null values?  If so how many and what will you do in your silver transforms to address this?\n",
    "- Count the number of tweets by each unique user handle and sort the data by descending count.\n",
    "- How many tweets have at least one mention (@) how many tweet have no mentions (@)\n",
    "- Plot a bar chart that shows the top 20 tweeters (users)\n"
   ]
  },
  {
   "cell_type": "code",
   "execution_count": 0,
   "metadata": {
    "application/vnd.databricks.v1+cell": {
     "cellMetadata": {
      "byteLimit": 2048000,
      "rowLimit": 10000
     },
     "inputWidgets": {},
     "nuid": "6fa140ec-1c46-495e-8420-cfada5789c73",
     "showTitle": false,
     "title": ""
    }
   },
   "outputs": [],
   "source": [
    "# How many tweets are captured in your Bronze Table?\n",
    "total_tweets = spark.sql(\"SELECT count(*) as total_count from bronze_delta\").collect()[0][\"total_count\"]\n",
    "print(\"Total number of tweets in Bronze Table:\", total_tweets)"
   ]
  },
  {
   "cell_type": "code",
   "execution_count": 0,
   "metadata": {
    "application/vnd.databricks.v1+cell": {
     "cellMetadata": {
      "byteLimit": 2048000,
      "rowLimit": 10000
     },
     "inputWidgets": {},
     "nuid": "020a8c48-1c98-419d-ac19-0cdc0bfe567c",
     "showTitle": false,
     "title": ""
    }
   },
   "outputs": [],
   "source": [
    "# Are there any columns that contain Nan or Null values? If so how many and what will you do in your silver transforms to address this?\n",
    "\n",
    "result = spark.sql(\"\"\"\n",
    "  SELECT\n",
    "    SUM(CASE WHEN `date` IS NULL THEN 1 ELSE 0 END) AS null_count_date,\n",
    "    SUM(CASE WHEN sentiment IS NULL THEN 1 ELSE 0 END) AS null_count_sentiment,\n",
    "    SUM(CASE WHEN text IS NULL THEN 1 ELSE 0 END) AS null_count_text,\n",
    "    SUM(CASE WHEN user IS NULL THEN 1 ELSE 0 END) AS null_count_user,\n",
    "    SUM(CASE WHEN source_file IS NULL THEN 1 ELSE 0 END) AS null_count_source_file,\n",
    "    SUM(CASE WHEN processing_time IS NULL THEN 1 ELSE 0 END) AS null_count_processing_time\n",
    "  FROM\n",
    "    bronze_delta\n",
    "\"\"\")\n",
    "\n",
    "result.show()\n",
    "\n"
   ]
  },
  {
   "cell_type": "code",
   "execution_count": 0,
   "metadata": {
    "application/vnd.databricks.v1+cell": {
     "cellMetadata": {
      "byteLimit": 2048000,
      "rowLimit": 10000
     },
     "inputWidgets": {},
     "nuid": "cd21e910-526d-40a9-9d09-602349b0459b",
     "showTitle": false,
     "title": ""
    }
   },
   "outputs": [],
   "source": [
    "# Count the number of tweets by each unique user handle and sort the data by descending count.\n",
    "users_tweets = spark.sql(\"\"\"\n",
    "  SELECT user, COUNT(*) AS tweet_count\n",
    "  FROM bronze_delta\n",
    "  GROUP BY user\n",
    "  ORDER BY tweet_count DESC\n",
    "\"\"\")\n",
    "\n",
    "users_tweets.show()"
   ]
  },
  {
   "cell_type": "code",
   "execution_count": 0,
   "metadata": {
    "application/vnd.databricks.v1+cell": {
     "cellMetadata": {
      "byteLimit": 2048000,
      "rowLimit": 10000
     },
     "inputWidgets": {},
     "nuid": "9adc5273-f823-4c0c-8b72-d66db6e1cc7f",
     "showTitle": false,
     "title": ""
    }
   },
   "outputs": [],
   "source": [
    "# How many tweets have at least one mention (@) how many tweet have no mentions (@)\n",
    "result = spark.sql(\"\"\"\n",
    "  SELECT \n",
    "    SUM(CASE WHEN text LIKE '%@%' THEN 1 ELSE 0 END) AS tweets_with_mention,\n",
    "    SUM(CASE WHEN text NOT LIKE '%@%' THEN 1 ELSE 0 END) AS tweets_without_mention\n",
    "  FROM bronze_delta\n",
    "\"\"\")\n",
    "\n",
    "result.show()"
   ]
  },
  {
   "cell_type": "code",
   "execution_count": 0,
   "metadata": {
    "application/vnd.databricks.v1+cell": {
     "cellMetadata": {
      "byteLimit": 2048000,
      "rowLimit": 10000
     },
     "inputWidgets": {},
     "nuid": "091ec59c-d968-4acf-b56f-cc9178cd0693",
     "showTitle": false,
     "title": ""
    }
   },
   "outputs": [],
   "source": [
    "# Plot a bar chart that shows the top 20 tweeters (users)\n",
    "\n",
    "# Get the top 20 users\n",
    "top_users = users_tweets.limit(20).toPandas()\n",
    "\n",
    "# Create a bar chart\n",
    "plt.bar(top_users['user'], top_users['tweet_count'])\n",
    "plt.xlabel('User')\n",
    "plt.ylabel('Tweet Count')\n",
    "plt.title('Top 20 Tweeters')\n",
    "\n",
    "# Rotate x-axis labels for better readability (optional)\n",
    "plt.xticks(rotation=90)\n",
    "\n",
    "# Display the chart\n",
    "plt.show()"
   ]
  },
  {
   "cell_type": "markdown",
   "metadata": {
    "application/vnd.databricks.v1+cell": {
     "cellMetadata": {
      "byteLimit": 2048000,
      "rowLimit": 10000
     },
     "inputWidgets": {},
     "nuid": "38c290b9-a42a-4551-857b-3f461b8a1be6",
     "showTitle": false,
     "title": ""
    }
   },
   "source": [
    "## 5.0 Transform the Bronze Data to Silver Data using a stream\n",
    "- setup a read stream on your bronze delta table\n",
    "- setup a write stream to append to the silver delta table\n",
    "- Use the defined SILVER_CHECKPOINT and SILVER_DELTA paths in the includes\n",
    "- name your bronze to silver stream as silver_stream\n",
    "- transform the bronze data to the silver data using the data definition at the top of the notebook"
   ]
  },
  {
   "cell_type": "code",
   "execution_count": 0,
   "metadata": {
    "application/vnd.databricks.v1+cell": {
     "cellMetadata": {
      "byteLimit": 2048000,
      "rowLimit": 10000
     },
     "inputWidgets": {},
     "nuid": "65b029cb-ba45-4625-a9c1-d0d410a4962b",
     "showTitle": false,
     "title": ""
    }
   },
   "outputs": [],
   "source": [
    "bronze_stream_df = (\n",
    "    spark\n",
    "    .readStream\n",
    "    .format(\"delta\")\n",
    "    .option(\"cloudFiles.format\", \"json\")\n",
    "    .option(\"maxFilesPerTrigger\", 5)\n",
    "    .load(BRONZE_DELTA)\n",
    ")"
   ]
  },
  {
   "cell_type": "markdown",
   "metadata": {
    "application/vnd.databricks.v1+cell": {
     "cellMetadata": {
      "byteLimit": 2048000,
      "rowLimit": 10000
     },
     "inputWidgets": {},
     "nuid": "74a20c2c-4b52-4e98-8360-477ed74b1f1b",
     "showTitle": false,
     "title": ""
    }
   },
   "source": [
    "Silver Data - Bronze Preprocessing\n",
    "\n",
    "timestamp - convert date string in the bronze data to a timestamp\n",
    "\n",
    "mention - every @username mentioned in the text string in the bronze data gets a row in this silver data table.\n",
    "\n",
    "cleaned_text - the bronze text data with the mentions (@username) removed.\n",
    "\n",
    "sentiment - the given sentiment that was associated with the text in the bronze table.\n"
   ]
  },
  {
   "cell_type": "code",
   "execution_count": 0,
   "metadata": {
    "application/vnd.databricks.v1+cell": {
     "cellMetadata": {
      "byteLimit": 2048000,
      "rowLimit": 10000
     },
     "inputWidgets": {},
     "nuid": "c6875a28-f9e6-4cb2-9709-dc46d6f1fb13",
     "showTitle": false,
     "title": ""
    }
   },
   "outputs": [],
   "source": [
    "mode_date_df = spark.sql(\"\"\"\n",
    "    SELECT date\n",
    "    FROM bronze_delta\n",
    "    GROUP BY date\n",
    "    ORDER BY COUNT(*) DESC\n",
    "    LIMIT 1\n",
    "\"\"\")\n",
    "\n",
    "mode_date = mode_date_df.first()[\"date\"]\n",
    "\n",
    "mode_date_str = mode_date\n",
    "print(\"Mode Date:\", mode_date_str)"
   ]
  },
  {
   "cell_type": "code",
   "execution_count": 0,
   "metadata": {
    "application/vnd.databricks.v1+cell": {
     "cellMetadata": {
      "byteLimit": 2048000,
      "rowLimit": 10000
     },
     "inputWidgets": {},
     "nuid": "989bd243-0645-4621-b9c3-8d98ec674ad4",
     "showTitle": false,
     "title": ""
    }
   },
   "outputs": [],
   "source": [
    "spark.conf.set(\"spark.sql.legacy.timeParserPolicy\", \"LEGACY\")\n",
    "\n",
    "silver_df = bronze_stream_df.withColumn(\"date\", coalesce(col(\"date\"), lit(mode_date)))\n",
    "\n",
    "date_format = \"EEE MMM dd HH:mm:ss zzz yyyy\"\n",
    "\n",
    "silver_df = silver_df.withColumn(\"timestamp\", to_timestamp(col(\"date\"), date_format))\n",
    "silver_df = silver_df.withColumn(\"mention\", regexp_extract(col(\"text\"), \"@([A-Za-z0-9_]+)\", 1))\n",
    "silver_df = silver_df.withColumn(\"cleaned_text\", regexp_replace(col(\"text\"), \"@[A-Za-z0-9_]+\", \"\"))\n",
    "silver_df = silver_df.withColumn(\"cleaned_text\", regexp_replace(col(\"cleaned_text\"), \"&quot;\", \"\"))\n",
    "silver_df = silver_df.withColumn(\"cleaned_text\", regexp_replace(col(\"cleaned_text\"), \"��\", \"\"))\n",
    "silver_df = silver_df.withColumn(\"cleaned_text\", regexp_replace(col(\"cleaned_text\"), \"&amp;\", \"\"))\n",
    "silver_df = silver_df.withColumn(\"cleaned_text\", regexp_replace(col(\"cleaned_text\"), \"&[a-zA-Z]+;\", \"\")) \n",
    "silver_df = silver_df.withColumn(\"cleaned_text\", regexp_replace(col(\"cleaned_text\"), \"\\\\p{C}\", \"\"))\n",
    "silver_df = silver_df.withColumn(\"sentiment\", col(\"sentiment\"))\n",
    "silver_df = silver_df.select(\"timestamp\", \"mention\", \"cleaned_text\", \"sentiment\")"
   ]
  },
  {
   "cell_type": "code",
   "execution_count": 0,
   "metadata": {
    "application/vnd.databricks.v1+cell": {
     "cellMetadata": {
      "byteLimit": 2048000,
      "rowLimit": 10000
     },
     "inputWidgets": {},
     "nuid": "f31977a8-6dae-4466-96e4-e0f86d95b5c3",
     "showTitle": false,
     "title": ""
    }
   },
   "outputs": [],
   "source": [
    "# df = spark.read.format('delta').load(BRONZE_DELTA)\n",
    "# display(df)"
   ]
  },
  {
   "cell_type": "code",
   "execution_count": 0,
   "metadata": {
    "application/vnd.databricks.v1+cell": {
     "cellMetadata": {
      "byteLimit": 2048000,
      "rowLimit": 10000
     },
     "inputWidgets": {},
     "nuid": "7cda261a-95c8-45f6-b1a8-e2405d033091",
     "showTitle": false,
     "title": ""
    }
   },
   "outputs": [],
   "source": [
    "\n",
    "\n",
    "# from pyspark.sql.functions import to_timestamp, lit\n",
    "\n",
    "# test_df = spark.createDataFrame([('Fri May 01 20:10:32 PDT 2009',)], ['date'])\n",
    "\n",
    "# # Test parsing\n",
    "# test_df.select(to_timestamp(lit('Fri May 01 20:10:32 PDT 2009'), 'EEE MMM dd HH:mm:ss zzz yyyy').alias('parsed_date')).show(truncate=False)"
   ]
  },
  {
   "cell_type": "code",
   "execution_count": 0,
   "metadata": {
    "application/vnd.databricks.v1+cell": {
     "cellMetadata": {
      "byteLimit": 2048000,
      "rowLimit": 10000
     },
     "inputWidgets": {},
     "nuid": "f7c750f2-ebd3-481e-88de-db6d2044be08",
     "showTitle": false,
     "title": ""
    }
   },
   "outputs": [],
   "source": [
    "dbutils.fs.rm(SILVER_CHECKPOINT, recurse=True)\n",
    "dbutils.fs.rm(SILVER_DELTA, recurse=True)"
   ]
  },
  {
   "cell_type": "code",
   "execution_count": 0,
   "metadata": {
    "application/vnd.databricks.v1+cell": {
     "cellMetadata": {
      "byteLimit": 2048000,
      "rowLimit": 10000
     },
     "inputWidgets": {},
     "nuid": "c5ead0bf-83f0-470d-bdfc-a51b4ea24fd8",
     "showTitle": false,
     "title": ""
    }
   },
   "outputs": [],
   "source": [
    "silver_stream = (\n",
    "    silver_df\n",
    "    .writeStream\n",
    "    .format(\"delta\")\n",
    "    .outputMode(\"append\")\n",
    "    .option(\"checkpointLocation\", SILVER_CHECKPOINT)\n",
    "    .option(\"mergeSchema\", \"true\")\n",
    "    .queryName(\"silver_stream\")\n",
    "    .start(SILVER_DELTA)\n",
    ")"
   ]
  },
  {
   "cell_type": "code",
   "execution_count": 0,
   "metadata": {
    "application/vnd.databricks.v1+cell": {
     "cellMetadata": {
      "byteLimit": 2048000,
      "rowLimit": 10000
     },
     "inputWidgets": {},
     "nuid": "f199387b-b54f-48f5-b0c8-cde6a50dc3bf",
     "showTitle": false,
     "title": ""
    }
   },
   "outputs": [],
   "source": [
    "\n",
    "running_time = 0\n",
    "max_running_time = 15  \n",
    "while silver_stream.isActive:\n",
    "    time.sleep(5)  # Wait for a minute\n",
    "    running_time += 5\n",
    "    if running_time >= max_running_time:\n",
    "        silver_stream.stop()\n",
    "        print(\"silver_stream stopped after running 60 secs.\")"
   ]
  },
  {
   "cell_type": "code",
   "execution_count": 0,
   "metadata": {
    "application/vnd.databricks.v1+cell": {
     "cellMetadata": {
      "byteLimit": 2048000,
      "rowLimit": 10000
     },
     "inputWidgets": {},
     "nuid": "1b1005d1-87e0-46f5-a8ec-b88b47ba9ebc",
     "showTitle": false,
     "title": ""
    }
   },
   "outputs": [],
   "source": [
    "\n",
    "silver_stream.awaitTermination()\n",
    "display(dbutils.fs.ls(SILVER_DELTA))"
   ]
  },
  {
   "cell_type": "code",
   "execution_count": 0,
   "metadata": {
    "application/vnd.databricks.v1+cell": {
     "cellMetadata": {
      "byteLimit": 2048000,
      "rowLimit": 10000
     },
     "inputWidgets": {},
     "nuid": "aa99b955-972d-4d24-94a1-4cb8c51c12e1",
     "showTitle": false,
     "title": ""
    }
   },
   "outputs": [],
   "source": [
    "# spark.sql(f\"\"\"\n",
    "# DELETE FROM silver_delta\n",
    "# \"\"\")\n",
    "\n",
    "# spark.sql(f\"\"\"\n",
    "# DROP TABLE IF EXISTS silver_delta\n",
    "# \"\"\")\n",
    "\n",
    "# spark.sql(\n",
    "#     f\"\"\"\n",
    "# CREATE TABLE silver_delta\n",
    "# USING DELTA\n",
    "# LOCATION \"{SILVER_DELTA}\"\n",
    "# \"\"\"\n",
    "# )"
   ]
  },
  {
   "cell_type": "code",
   "execution_count": 0,
   "metadata": {
    "application/vnd.databricks.v1+cell": {
     "cellMetadata": {
      "byteLimit": 2048000,
      "implicitDf": true,
      "rowLimit": 10000
     },
     "inputWidgets": {},
     "nuid": "e3dfec61-83bb-451f-8119-eb4c029118ed",
     "showTitle": false,
     "title": ""
    }
   },
   "outputs": [],
   "source": [
    "%sql\n",
    "SELECT * FROM silver_delta LIMIT 5;\n"
   ]
  },
  {
   "cell_type": "markdown",
   "metadata": {
    "application/vnd.databricks.v1+cell": {
     "cellMetadata": {
      "byteLimit": 2048000,
      "rowLimit": 10000
     },
     "inputWidgets": {},
     "nuid": "9ee38aba-e340-4766-8339-71ef2ecfde3a",
     "showTitle": false,
     "title": ""
    }
   },
   "source": [
    "## 6.0 Transform the Silver Data to Gold Data using a stream\n",
    "- setup a read stream on your silver delta table\n",
    "- setup a write stream to append to the gold delta table\n",
    "- Use the defined GOLD_CHECKPOINT and GOLD_DELTA paths defines in the includes\n",
    "- name your silver to gold stream as gold_stream\n",
    "- transform the silver data to the gold data using the data definition at the top of the notebook\n",
    "- Load the pretrained transformer sentiment classifier from the MODEL_NAME at the production level from the MLflow registry\n",
    "- Use a spark UDF to parallelize the inference across your silver data"
   ]
  },
  {
   "cell_type": "code",
   "execution_count": 0,
   "metadata": {
    "application/vnd.databricks.v1+cell": {
     "cellMetadata": {
      "byteLimit": 2048000,
      "rowLimit": 10000
     },
     "inputWidgets": {},
     "nuid": "31e8949d-c016-44a7-9f03-65f471dfd22d",
     "showTitle": false,
     "title": ""
    }
   },
   "outputs": [],
   "source": [
    "silver_stream_df = (\n",
    "    spark\n",
    "    .readStream\n",
    "    .format(\"delta\")\n",
    "    .option(\"cloudFiles.format\", \"json\")\n",
    "    .option(\"maxFilesPerTrigger\", 5)\n",
    "    .load(SILVER_DELTA)\n",
    ")\n"
   ]
  },
  {
   "cell_type": "code",
   "execution_count": 0,
   "metadata": {
    "application/vnd.databricks.v1+cell": {
     "cellMetadata": {
      "byteLimit": 2048000,
      "rowLimit": 10000
     },
     "inputWidgets": {},
     "nuid": "edc7035d-3094-4cb9-9d99-51259199b416",
     "showTitle": false,
     "title": ""
    }
   },
   "outputs": [],
   "source": [
    "transformer_model = mlflow.pyfunc.load_model(model_uri=f\"models:/{MODEL_NAME}/production\")\n",
    "\n",
    "transformer_model"
   ]
  },
  {
   "cell_type": "code",
   "execution_count": 0,
   "metadata": {
    "application/vnd.databricks.v1+cell": {
     "cellMetadata": {
      "byteLimit": 2048000,
      "rowLimit": 10000
     },
     "inputWidgets": {},
     "nuid": "752b4e53-b44e-45aa-b46b-10cc7edc0d95",
     "showTitle": false,
     "title": ""
    }
   },
   "outputs": [],
   "source": [
    "# Sample text for prediction\n",
    "test_text = \"I love using Spark for big data processing.\"\n",
    "\n",
    "# Use the model's predict method directly on the test text\n",
    "model_output = transformer_model.predict(test_text)\n",
    "\n",
    "# Print or inspect the output to understand its structure\n",
    "print(model_output)\n"
   ]
  },
  {
   "cell_type": "markdown",
   "metadata": {
    "application/vnd.databricks.v1+cell": {
     "cellMetadata": {
      "byteLimit": 2048000,
      "rowLimit": 10000
     },
     "inputWidgets": {},
     "nuid": "1a2dcf94-ad7d-4293-bb80-e9fb2e482b1e",
     "showTitle": false,
     "title": ""
    }
   },
   "source": [
    "Gold Data - Silver Table Inference\n",
    "\n",
    "timestamp - the timestamp from the silver data table rows\n",
    "\n",
    "mention - the mention from the silver data table rows\n",
    "\n",
    "cleaned_text - the cleaned_text from the silver data table rows\n",
    "\n",
    "sentiment - the given sentiment from the silver data table rows\n",
    "\n",
    "predicted_score - score out of 100 from the Hugging Face Sentiment Transformer\n",
    "\n",
    "predicted_sentiment - string representation of the sentiment\n",
    "\n",
    "sentiment_id - 0 for negative and 1 for postive associated with the given sentiment\n",
    "\n",
    "predicted_sentiment_id - 0 for negative and 1 for positive assocaited with the Hugging Face Sentiment Transformer\n"
   ]
  },
  {
   "cell_type": "code",
   "execution_count": 0,
   "metadata": {
    "application/vnd.databricks.v1+cell": {
     "cellMetadata": {
      "byteLimit": 2048000,
      "rowLimit": 10000
     },
     "inputWidgets": {},
     "nuid": "a3c17727-0164-4b79-8820-94408a3501b3",
     "showTitle": false,
     "title": ""
    }
   },
   "outputs": [],
   "source": [
    "classify_sentiment_udf = udf(lambda text: transformer_model.predict(text)['label'].iloc[0], StringType())\n",
    "classify_score_udf = udf(lambda text: transformer_model.predict(text)['score'].iloc[0], StringType())\n",
    "binary_sentiment_udf = udf(lambda text: 0 if text=='negative' else 1)\n",
    "binary_predicted_sentiment_udf = udf(lambda text: 0 if text=='NEG' else 1)\n",
    "\n",
    "# Apply the UDF on the silver DataFrame to add a new column with the predicted sentiment\n",
    "gold_df = silver_stream_df.withColumn(\"predicted_sentiment\", classify_sentiment_udf(col(\"cleaned_text\")))\n",
    "gold_df = gold_df.withColumn(\"predicted_score\", classify_score_udf(col(\"cleaned_text\")))\n",
    "gold_df = gold_df.withColumn(\"sentiment_id\", binary_sentiment_udf(col(\"sentiment\")))\n",
    "gold_df = gold_df.withColumn(\"predicted_sentiment_id\", binary_predicted_sentiment_udf(col(\"predicted_sentiment\")))"
   ]
  },
  {
   "cell_type": "code",
   "execution_count": 0,
   "metadata": {
    "application/vnd.databricks.v1+cell": {
     "cellMetadata": {
      "byteLimit": 2048000,
      "rowLimit": 10000
     },
     "inputWidgets": {},
     "nuid": "90daf54d-1506-4bfa-b11c-3daabea8a172",
     "showTitle": false,
     "title": ""
    }
   },
   "outputs": [],
   "source": [
    "# Define the schema for the output of the UDF\n",
    "schema = StructType([\n",
    "    StructField(\"predicted_sentiment\", StringType()),\n",
    "    StructField(\"predicted_score\", StringType())\n",
    "])\n",
    "\n",
    "@pandas_udf(schema, PandasUDFType.SCALAR)\n",
    "def classify_and_score(texts):\n",
    "    predictions = texts.apply(transformer_model.predict)\n",
    "    results = pd.DataFrame({\n",
    "        'predicted_sentiment': predictions.map(lambda x: x['label'].iloc[0]),\n",
    "        'predicted_score': predictions.map(lambda x: str(x['score'].iloc[0]))  # Ensure conversion to string\n",
    "    })\n",
    "    return results\n",
    "\n",
    "# Apply the UDF\n",
    "gold_df = silver_stream_df.withColumn(\"predictions\", classify_and_score(col(\"cleaned_text\")))\n",
    "\n",
    "# Access the structured columns from the UDF result\n",
    "gold_df = gold_df.select(\n",
    "    \"*\",\n",
    "    col(\"predictions.predicted_sentiment\").alias(\"predicted_sentiment\"),\n",
    "    col(\"predictions.predicted_score\").alias(\"predicted_score\")\n",
    ").drop(\"predictions\")\n",
    "\n",
    "# Define a standard UDF or use when otherwise to convert sentiment to binary ID\n",
    "gold_df = gold_df.withColumn(\n",
    "    \"sentiment_id\", \n",
    "    when(col(\"sentiment\") == 'negative', 0).otherwise(1)\n",
    ")\n",
    "gold_df = gold_df.withColumn(\n",
    "    \"predicted_sentiment_id\",\n",
    "    when(col(\"predicted_sentiment\") == 'NEG', 0).otherwise(1)\n",
    ")\n"
   ]
  },
  {
   "cell_type": "code",
   "execution_count": 0,
   "metadata": {
    "application/vnd.databricks.v1+cell": {
     "cellMetadata": {
      "byteLimit": 2048000,
      "rowLimit": 10000
     },
     "inputWidgets": {},
     "nuid": "7c110a1c-6f0d-450a-9d0f-59de2e453a03",
     "showTitle": false,
     "title": ""
    }
   },
   "outputs": [],
   "source": [
    "dbutils.fs.rm(GOLD_CHECKPOINT, recurse=True)\n",
    "dbutils.fs.rm(GOLD_DELTA, recurse=True)"
   ]
  },
  {
   "cell_type": "code",
   "execution_count": 0,
   "metadata": {
    "application/vnd.databricks.v1+cell": {
     "cellMetadata": {
      "byteLimit": 2048000,
      "rowLimit": 10000
     },
     "inputWidgets": {},
     "nuid": "071d0a24-b3a9-4f5f-a714-cf846c1ec764",
     "showTitle": false,
     "title": ""
    }
   },
   "outputs": [],
   "source": [
    "gold_stream = (\n",
    "    gold_df\n",
    "    .writeStream\n",
    "    .format(\"delta\")\n",
    "    .outputMode(\"append\")\n",
    "    .option(\"checkpointLocation\", GOLD_CHECKPOINT)\n",
    "    .option(\"mergeSchema\", \"true\")\n",
    "    .queryName(\"gold_stream\")\n",
    "    .start(GOLD_DELTA)\n",
    ")"
   ]
  },
  {
   "cell_type": "code",
   "execution_count": 0,
   "metadata": {
    "application/vnd.databricks.v1+cell": {
     "cellMetadata": {
      "byteLimit": 2048000,
      "rowLimit": 10000
     },
     "inputWidgets": {},
     "nuid": "99ef78ae-6f98-4002-b6e3-84c04769b87d",
     "showTitle": false,
     "title": ""
    }
   },
   "outputs": [],
   "source": [
    "running_time = 0\n",
    "max_running_time = 60 \n",
    "while gold_stream.isActive:\n",
    "    time.sleep(5)  # Wait for a minute\n",
    "    running_time += 5\n",
    "    if running_time >= max_running_time:\n",
    "        gold_stream.stop()\n",
    "        print(\"silver_stream stopped after running 60 secs.\")"
   ]
  },
  {
   "cell_type": "code",
   "execution_count": 0,
   "metadata": {
    "application/vnd.databricks.v1+cell": {
     "cellMetadata": {
      "byteLimit": 2048000,
      "rowLimit": 10000
     },
     "inputWidgets": {},
     "nuid": "73d4a902-c471-434b-86d4-ff5a304f45d9",
     "showTitle": false,
     "title": ""
    }
   },
   "outputs": [],
   "source": [
    "gold_stream.awaitTermination()"
   ]
  },
  {
   "cell_type": "code",
   "execution_count": 0,
   "metadata": {
    "application/vnd.databricks.v1+cell": {
     "cellMetadata": {
      "byteLimit": 2048000,
      "rowLimit": 10000
     },
     "inputWidgets": {},
     "nuid": "e71a06d8-b3d3-4564-a828-609d54f7d0e4",
     "showTitle": false,
     "title": ""
    }
   },
   "outputs": [],
   "source": [
    "# spark.sql(\n",
    "#     f\"\"\"\n",
    "# CREATE TABLE gold_delta\n",
    "# USING DELTA\n",
    "# LOCATION \"{GOLD_DELTA}\"\n",
    "# \"\"\"\n",
    "# )"
   ]
  },
  {
   "cell_type": "code",
   "execution_count": 0,
   "metadata": {
    "application/vnd.databricks.v1+cell": {
     "cellMetadata": {
      "byteLimit": 2048000,
      "rowLimit": 10000
     },
     "inputWidgets": {},
     "nuid": "fe489ae8-9a79-47be-a945-8e2f60f3d4f4",
     "showTitle": false,
     "title": ""
    }
   },
   "outputs": [],
   "source": [
    "gold_df = spark.read.format('delta').load(GOLD_DELTA)\n",
    "display(gold_df)"
   ]
  },
  {
   "cell_type": "markdown",
   "metadata": {
    "application/vnd.databricks.v1+cell": {
     "cellMetadata": {
      "byteLimit": 2048000,
      "rowLimit": 10000
     },
     "inputWidgets": {},
     "nuid": "0494d8b4-5a55-47fc-af12-47325f34a303",
     "showTitle": false,
     "title": ""
    }
   },
   "source": [
    "## 7.0 Capture the accuracy metrics from the gold table in MLflow\n",
    "Store the following in an MLflow experiment run:\n",
    "- Store the precision, recall, and F1-score as MLflow metrics\n",
    "- Store an image of the confusion matrix as an MLflow artifact\n",
    "- Store the mdoel name and the MLflow version that was used as an MLflow parameters\n",
    "- Store the version of the Delta Table (input-silver) as an MLflow parameter"
   ]
  },
  {
   "cell_type": "code",
   "execution_count": 0,
   "metadata": {
    "application/vnd.databricks.v1+cell": {
     "cellMetadata": {
      "byteLimit": 2048000,
      "rowLimit": 10000
     },
     "inputWidgets": {},
     "nuid": "3bb174ad-67e4-4b0a-be36-ff20a760ee8b",
     "showTitle": false,
     "title": ""
    }
   },
   "outputs": [],
   "source": [
    "# Assuming gold_df is your DataFrame\n",
    "# Convert Spark DataFrame to Pandas DataFrame if it's not already a Pandas DataFrame\n",
    "gold_pd = gold_df.toPandas()\n",
    "\n",
    "# Prepare data\n",
    "y_true = gold_pd['sentiment_id']\n",
    "y_pred = gold_pd['predicted_sentiment_id']\n",
    "\n",
    "# Calculate metrics\n",
    "precision = precision_score(y_true, y_pred, average='binary')\n",
    "recall = recall_score(y_true, y_pred, average='binary')\n",
    "f1 = f1_score(y_true, y_pred, average='binary')\n",
    "\n",
    "print(\"precision\", precision)\n",
    "print(\"recall\", recall)\n",
    "print(\"f1\", f1)\n",
    "\n",
    "# Generate and save confusion matrix\n",
    "plt.figure(figsize=(10,7))\n",
    "cf_matrix = confusion_matrix(y_true, y_pred)\n",
    "sns.heatmap(cf_matrix, annot=True, fmt='g')\n",
    "plt.title('Confusion Matrix')\n",
    "plt.ylabel('Actual')\n",
    "plt.xlabel('Predicted')\n",
    "plt.show()\n",
    "plt.savefig(\"/tmp/confusion_matrix.png\")\n",
    "plt.close()\n",
    "\n",
    "# Start an MLflow run\n",
    "with mlflow.start_run():\n",
    "    # Log metrics\n",
    "    mlflow.log_metric(\"Precision\", precision)\n",
    "    mlflow.log_metric(\"Recall\", recall)\n",
    "    mlflow.log_metric(\"F1 Score\", f1)\n",
    "\n",
    "    # Log the confusion matrix artifact\n",
    "    mlflow.log_artifact(\"/tmp/confusion_matrix.png\")\n",
    "\n",
    "    # Log parameters\n",
    "    mlflow.log_param(\"Model Name\", \"YourModelNameHere\")\n",
    "    mlflow.log_param(\"MLflow Version\", mlflow.__version__)\n",
    "\n",
    "    # Log the version of the Delta Table if using Delta Lake\n",
    "    delta_table_version = spark.sql(\"DESCRIBE HISTORY silver_delta\").collect()[0]['version']\n",
    "    mlflow.log_param(\"Input Table Version\", delta_table_version)\n"
   ]
  },
  {
   "cell_type": "markdown",
   "metadata": {
    "application/vnd.databricks.v1+cell": {
     "cellMetadata": {
      "byteLimit": 2048000,
      "rowLimit": 10000
     },
     "inputWidgets": {},
     "nuid": "81e0e2de-b872-4698-81cc-1669646c2183",
     "showTitle": false,
     "title": ""
    }
   },
   "source": [
    "## 8.0 Application Data Processing and Visualization\n",
    "- How many mentions are there in the gold data total?\n",
    "- Count the number of neutral, positive and negative tweets for each mention in new columns\n",
    "- Capture the total for each mention in a new column\n",
    "- Sort the mention count totals in descending order\n",
    "- Plot a bar chart of the top 20 mentions with positive sentiment (the people who are in favor)\n",
    "- Plot a bar chart of the top 20 mentions with negative sentiment (the people who are the vilians)\n",
    "\n",
    "You may want to use the \"Loop Application\" widget to control whether you repeateded display the latest plots while the data comes in from your streams before moving on to the next section and cleaning up your run.\n",
    "\n",
    "*note: A mention is a specific twitter user that has been \"mentioned\" in a tweet with an @user reference."
   ]
  },
  {
   "cell_type": "markdown",
   "metadata": {
    "application/vnd.databricks.v1+cell": {
     "cellMetadata": {
      "byteLimit": 2048000,
      "rowLimit": 10000
     },
     "inputWidgets": {},
     "nuid": "14329c4b-d1f1-49da-b99c-b67c6176b949",
     "showTitle": false,
     "title": ""
    }
   },
   "source": [
    "Application Data - Gold Table Aggregation\n",
    "\n",
    "min_timestamp - the oldest timestamp on a given mention (@username)\n",
    "\n",
    "max_timestamp - the newest timestamp on a given mention (@username)\n",
    "\n",
    "mention - the user (@username) that this row pertains to.\n",
    "\n",
    "negative - total negative tweets directed at this mention (@username)\n",
    "\n",
    "neutral - total neutral tweets directed at this mention (@username)\n",
    "\n",
    "positive - total positive tweets directed at this mention (@username)"
   ]
  },
  {
   "cell_type": "code",
   "execution_count": 0,
   "metadata": {
    "application/vnd.databricks.v1+cell": {
     "cellMetadata": {
      "byteLimit": 2048000,
      "rowLimit": 10000
     },
     "inputWidgets": {},
     "nuid": "8250667b-eaa5-48a1-90c7-bfe11e666e32",
     "showTitle": false,
     "title": ""
    }
   },
   "outputs": [],
   "source": [
    "# Aggregate data by mention and pivot on predicted sentiment to count occurrences\n",
    "mention_sentiments = gold_df.groupBy(\"mention\").pivot(\"sentiment\", [\"positive\", \"negative\", \"neutral\"]).count()\n",
    "\n",
    "# Calculate total mentions for each user\n",
    "mention_sentiments = mention_sentiments.withColumn(\"total\", F.col(\"positive\") + F.col(\"negative\") + F.col(\"neutral\"))\n",
    "\n",
    "# Get the min and max timestamps for each mention\n",
    "time_bounds = gold_df.groupBy(\"mention\").agg(\n",
    "    F.min(\"timestamp\").alias(\"min_timestamp\"),\n",
    "    F.max(\"timestamp\").alias(\"max_timestamp\")\n",
    ")\n",
    "\n",
    "# Join the data to include timestamps\n",
    "full_mention_data = mention_sentiments.join(time_bounds, \"mention\")\n",
    "\n",
    "# Sort by total mentions in descending order\n",
    "sorted_mention_data = full_mention_data.orderBy(F.desc(\"total\"))\n",
    "\n",
    "# Convert to Pandas DataFrame for plotting\n",
    "mention_pd = sorted_mention_data.toPandas()\n",
    "\n",
    "# Function to plot top mentions by sentiment\n",
    "def plot_top_mentions(df, sentiment, color, title):\n",
    "    top_mentions = df.nlargest(20, sentiment)\n",
    "    plt.figure(figsize=(10, 8))\n",
    "    plt.bar(top_mentions['mention'], top_mentions[sentiment], color=color)\n",
    "    plt.xlabel('Mentions')\n",
    "    plt.ylabel(f'Count of {sentiment.capitalize()} Tweets')\n",
    "    plt.title(title)\n",
    "    plt.xticks(rotation=90)\n",
    "    plt.tight_layout()\n",
    "    plt.show()\n",
    "\n",
    "# Widget to control the update of plots\n",
    "dbutils.widgets.dropdown(\"update_plots\", \"No\", [\"Yes\", \"No\"])\n",
    "update = dbutils.widgets.get(\"update_plots\")\n",
    "\n",
    "if update == \"Yes\":\n",
    "    # Plot for top 20 mentions with positive sentiment\n",
    "    plot_top_mentions(mention_pd, 'positive', 'green', 'Top 20 Mentions by Positive Sentiment')\n",
    "    \n",
    "    # Plot for top 20 mentions with negative sentiment\n",
    "    plot_top_mentions(mention_pd, 'negative', 'red', 'Top 20 Mentions by Negative Sentiment')\n",
    "\n"
   ]
  },
  {
   "cell_type": "code",
   "execution_count": 0,
   "metadata": {
    "application/vnd.databricks.v1+cell": {
     "cellMetadata": {
      "byteLimit": 2048000,
      "rowLimit": 10000
     },
     "inputWidgets": {},
     "nuid": "df9d2bd4-43e8-4e15-9f87-d8dd222e7697",
     "showTitle": false,
     "title": ""
    }
   },
   "outputs": [],
   "source": [
    "display(mention_sentiments)"
   ]
  },
  {
   "cell_type": "markdown",
   "metadata": {
    "application/vnd.databricks.v1+cell": {
     "cellMetadata": {
      "byteLimit": 2048000,
      "rowLimit": 10000
     },
     "inputWidgets": {},
     "nuid": "5d5add3f-0c13-4d81-86d8-12cf3cfdd2c8",
     "showTitle": false,
     "title": ""
    }
   },
   "source": [
    "## 9.0 Clean up and completion of your pipeline\n",
    "- using the utilities what streams are running? If any.\n",
    "- Stop all active streams\n",
    "- print out the elapsed time of your notebook."
   ]
  },
  {
   "cell_type": "code",
   "execution_count": 0,
   "metadata": {
    "application/vnd.databricks.v1+cell": {
     "cellMetadata": {
      "byteLimit": 2048000,
      "rowLimit": 10000
     },
     "inputWidgets": {},
     "nuid": "0304e685-c26e-447d-b230-c37266f30003",
     "showTitle": false,
     "title": ""
    }
   },
   "outputs": [],
   "source": [
    "active_streams = spark.streams.active\n",
    "\n",
    "# Print out details of each active stream\n",
    "if active_streams:\n",
    "    for stream in active_streams:\n",
    "        print(f\"Stream Name: {stream.name}, Stream ID: {stream.id}, Is Active: {stream.isActive}\")\n",
    "else:\n",
    "    print(\"No active streams.\")"
   ]
  },
  {
   "cell_type": "code",
   "execution_count": 0,
   "metadata": {
    "application/vnd.databricks.v1+cell": {
     "cellMetadata": {
      "byteLimit": 2048000,
      "rowLimit": 10000
     },
     "inputWidgets": {},
     "nuid": "ad6ed927-e77b-4e07-9022-587a84ef9384",
     "showTitle": false,
     "title": ""
    }
   },
   "outputs": [],
   "source": [
    "for stream in spark.streams.active:\n",
    "    stream.stop()\n",
    "    print(f\"Stopped stream: {stream.name}\")"
   ]
  },
  {
   "cell_type": "code",
   "execution_count": 0,
   "metadata": {
    "application/vnd.databricks.v1+cell": {
     "cellMetadata": {
      "byteLimit": 2048000,
      "rowLimit": 10000
     },
     "inputWidgets": {},
     "nuid": "ea759fc8-1d78-4d6d-b571-e2e256448b76",
     "showTitle": false,
     "title": ""
    }
   },
   "outputs": [],
   "source": [
    "# Get the notebooks ending time note START_TIME was established in the include file when the notebook started.\n",
    "END_TIME = time.time()\n",
    "elapsed_time = END_TIME - START_TIME  \n",
    "print(f\"Elapsed Time: {elapsed_time:.2f} seconds\")"
   ]
  },
  {
   "cell_type": "markdown",
   "metadata": {
    "application/vnd.databricks.v1+cell": {
     "cellMetadata": {
      "byteLimit": 2048000,
      "rowLimit": 10000
     },
     "inputWidgets": {},
     "nuid": "b88fc0e5-f50c-4ed1-9480-16a4c8a44b30",
     "showTitle": false,
     "title": ""
    }
   },
   "source": [
    "## 10.0 How Optimized is your Spark Application (Grad Students Only)\n",
    "Graduate students (registered for the DSCC-402 section of the course) are required to do this section.  This is a written analysis using the Spark UI (link to screen shots) that support your analysis of your pipelines execution and what is driving its performance.\n",
    "Recall that Spark Optimization has 5 significant dimensions of considertation:\n",
    "- Spill: write to executor disk due to lack of memory\n",
    "- Skew: imbalance in partition size\n",
    "- Shuffle: network io moving data between executors (wide transforms)\n",
    "- Storage: inefficiency due to disk storage format (small files, location)\n",
    "- Serialization: distribution of code segments across the cluster\n",
    "\n",
    "Comment on each of the dimentions of performance and how your impelementation is or is not being affected.  Use specific information in the Spark UI to support your description.  \n",
    "\n",
    "Note: you can take sreenshots of the Spark UI from your project runs in databricks and then link to those pictures by storing them as a publicly accessible file on your cloud drive (google, one drive, etc.)\n",
    "\n",
    "References:\n",
    "- [Spark UI Reference Reference](https://spark.apache.org/docs/latest/web-ui.html#web-ui)\n",
    "- [Spark UI Simulator](https://www.databricks.training/spark-ui-simulator/index.html)"
   ]
  },
  {
   "cell_type": "markdown",
   "metadata": {
    "application/vnd.databricks.v1+cell": {
     "cellMetadata": {
      "byteLimit": 2048000,
      "rowLimit": 10000
     },
     "inputWidgets": {},
     "nuid": "a0a5707d-a5ca-4e87-9e74-3b13d00337b0",
     "showTitle": false,
     "title": ""
    }
   },
   "source": [
    "### ENTER YOUR MARKDOWN HERE"
   ]
  }
 ],
 "metadata": {
  "application/vnd.databricks.v1+notebook": {
   "dashboards": [],
   "language": "python",
   "notebookMetadata": {
    "mostRecentlyExecutedCommandWithImplicitDF": {
     "commandId": 205537447449486,
     "dataframes": [
      "_sqldf"
     ]
    },
    "pythonIndentUnit": 4,
    "widgetLayout": [
     {
      "breakBefore": false,
      "name": "clear_previous_run",
      "width": 203
     },
     {
      "breakBefore": false,
      "name": "stop_streams",
      "width": 203
     }
    ]
   },
   "notebookName": "Starter Streaming Tweet Sentiment - Spring 2024 Final Project",
   "widgets": {
    "clear_previous_run": {
     "currentValue": "No",
     "nuid": "11b43403-c70f-41ef-ab0e-41172583baaa",
     "typedWidgetInfo": null,
     "widgetInfo": {
      "widgetType": "dropdown",
      "defaultValue": "No",
      "label": null,
      "name": "clear_previous_run",
      "options": {
       "widgetType": "dropdown",
       "autoCreated": null,
       "choices": [
        "No",
        "Yes"
       ]
      }
     }
    },
    "optimize_tables": {
     "currentValue": "No",
     "nuid": "d27f2950-3146-4010-8bc6-58c47a93e7a9",
     "typedWidgetInfo": null,
     "widgetInfo": {
      "widgetType": "dropdown",
      "defaultValue": "No",
      "label": null,
      "name": "optimize_tables",
      "options": {
       "widgetType": "dropdown",
       "autoCreated": null,
       "choices": [
        "No",
        "Yes"
       ]
      }
     }
    },
    "stop_streams": {
     "currentValue": "No",
     "nuid": "d70a2190-266e-473c-86a7-84f7bf56b386",
     "typedWidgetInfo": null,
     "widgetInfo": {
      "widgetType": "dropdown",
      "defaultValue": "No",
      "label": null,
      "name": "stop_streams",
      "options": {
       "widgetType": "dropdown",
       "autoCreated": null,
       "choices": [
        "No",
        "Yes"
       ]
      }
     }
    }
   }
  }
 },
 "nbformat": 4,
 "nbformat_minor": 0
}
